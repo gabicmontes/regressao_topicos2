{
 "cells": [
  {
   "cell_type": "markdown",
   "metadata": {},
   "source": [
    "# Ler dados do .csv"
   ]
  },
  {
   "cell_type": "code",
   "execution_count": 3,
   "metadata": {},
   "outputs": [
    {
     "data": {
      "text/html": [
       "<div>\n",
       "<style scoped>\n",
       "    .dataframe tbody tr th:only-of-type {\n",
       "        vertical-align: middle;\n",
       "    }\n",
       "\n",
       "    .dataframe tbody tr th {\n",
       "        vertical-align: top;\n",
       "    }\n",
       "\n",
       "    .dataframe thead th {\n",
       "        text-align: right;\n",
       "    }\n",
       "</style>\n",
       "<table border=\"1\" class=\"dataframe\">\n",
       "  <thead>\n",
       "    <tr style=\"text-align: right;\">\n",
       "      <th></th>\n",
       "      <th>nomeMunicipio</th>\n",
       "      <th>dataCaso</th>\n",
       "      <th>confirmadosCaso</th>\n",
       "      <th>recuperadosCaso</th>\n",
       "      <th>obitosCaso</th>\n",
       "      <th>suspeitosCaso</th>\n",
       "      <th>descartadosCaso</th>\n",
       "    </tr>\n",
       "  </thead>\n",
       "  <tbody>\n",
       "    <tr>\n",
       "      <th>0</th>\n",
       "      <td>Astolfo Dutra</td>\n",
       "      <td>2020-05-29</td>\n",
       "      <td>11.0</td>\n",
       "      <td>4.0</td>\n",
       "      <td>0.0</td>\n",
       "      <td>73.0</td>\n",
       "      <td>7.0</td>\n",
       "    </tr>\n",
       "    <tr>\n",
       "      <th>1</th>\n",
       "      <td>Astolfo Dutra</td>\n",
       "      <td>2020-06-03</td>\n",
       "      <td>14.0</td>\n",
       "      <td>6.0</td>\n",
       "      <td>1.0</td>\n",
       "      <td>150.0</td>\n",
       "      <td>8.0</td>\n",
       "    </tr>\n",
       "    <tr>\n",
       "      <th>2</th>\n",
       "      <td>Astolfo Dutra</td>\n",
       "      <td>2020-06-02</td>\n",
       "      <td>14.0</td>\n",
       "      <td>4.0</td>\n",
       "      <td>1.0</td>\n",
       "      <td>108.0</td>\n",
       "      <td>8.0</td>\n",
       "    </tr>\n",
       "    <tr>\n",
       "      <th>3</th>\n",
       "      <td>Astolfo Dutra</td>\n",
       "      <td>2020-06-01</td>\n",
       "      <td>14.0</td>\n",
       "      <td>4.0</td>\n",
       "      <td>1.0</td>\n",
       "      <td>81.0</td>\n",
       "      <td>8.0</td>\n",
       "    </tr>\n",
       "    <tr>\n",
       "      <th>4</th>\n",
       "      <td>Astolfo Dutra</td>\n",
       "      <td>2020-05-31</td>\n",
       "      <td>14.0</td>\n",
       "      <td>4.0</td>\n",
       "      <td>1.0</td>\n",
       "      <td>76.0</td>\n",
       "      <td>7.0</td>\n",
       "    </tr>\n",
       "    <tr>\n",
       "      <th>5</th>\n",
       "      <td>Astolfo Dutra</td>\n",
       "      <td>2020-05-30</td>\n",
       "      <td>13.0</td>\n",
       "      <td>4.0</td>\n",
       "      <td>0.0</td>\n",
       "      <td>74.0</td>\n",
       "      <td>7.0</td>\n",
       "    </tr>\n",
       "    <tr>\n",
       "      <th>6</th>\n",
       "      <td>Astolfo Dutra</td>\n",
       "      <td>2020-05-28</td>\n",
       "      <td>10.0</td>\n",
       "      <td>4.0</td>\n",
       "      <td>0.0</td>\n",
       "      <td>68.0</td>\n",
       "      <td>6.0</td>\n",
       "    </tr>\n",
       "    <tr>\n",
       "      <th>7</th>\n",
       "      <td>Astolfo Dutra</td>\n",
       "      <td>2020-05-27</td>\n",
       "      <td>9.0</td>\n",
       "      <td>2.0</td>\n",
       "      <td>0.0</td>\n",
       "      <td>68.0</td>\n",
       "      <td>5.0</td>\n",
       "    </tr>\n",
       "    <tr>\n",
       "      <th>8</th>\n",
       "      <td>Astolfo Dutra</td>\n",
       "      <td>2020-05-26</td>\n",
       "      <td>9.0</td>\n",
       "      <td>2.0</td>\n",
       "      <td>0.0</td>\n",
       "      <td>66.0</td>\n",
       "      <td>5.0</td>\n",
       "    </tr>\n",
       "    <tr>\n",
       "      <th>9</th>\n",
       "      <td>Astolfo Dutra</td>\n",
       "      <td>2020-05-25</td>\n",
       "      <td>9.0</td>\n",
       "      <td>2.0</td>\n",
       "      <td>0.0</td>\n",
       "      <td>64.0</td>\n",
       "      <td>5.0</td>\n",
       "    </tr>\n",
       "  </tbody>\n",
       "</table>\n",
       "</div>"
      ],
      "text/plain": [
       "   nomeMunicipio    dataCaso  confirmadosCaso  recuperadosCaso  obitosCaso  \\\n",
       "0  Astolfo Dutra  2020-05-29             11.0              4.0         0.0   \n",
       "1  Astolfo Dutra  2020-06-03             14.0              6.0         1.0   \n",
       "2  Astolfo Dutra  2020-06-02             14.0              4.0         1.0   \n",
       "3  Astolfo Dutra  2020-06-01             14.0              4.0         1.0   \n",
       "4  Astolfo Dutra  2020-05-31             14.0              4.0         1.0   \n",
       "5  Astolfo Dutra  2020-05-30             13.0              4.0         0.0   \n",
       "6  Astolfo Dutra  2020-05-28             10.0              4.0         0.0   \n",
       "7  Astolfo Dutra  2020-05-27              9.0              2.0         0.0   \n",
       "8  Astolfo Dutra  2020-05-26              9.0              2.0         0.0   \n",
       "9  Astolfo Dutra  2020-05-25              9.0              2.0         0.0   \n",
       "\n",
       "   suspeitosCaso  descartadosCaso  \n",
       "0           73.0              7.0  \n",
       "1          150.0              8.0  \n",
       "2          108.0              8.0  \n",
       "3           81.0              8.0  \n",
       "4           76.0              7.0  \n",
       "5           74.0              7.0  \n",
       "6           68.0              6.0  \n",
       "7           68.0              5.0  \n",
       "8           66.0              5.0  \n",
       "9           64.0              5.0  "
      ]
     },
     "execution_count": 3,
     "metadata": {},
     "output_type": "execute_result"
    }
   ],
   "source": [
    "import pandas as pd\n",
    "\n",
    "df = pd.read_csv(\"covid.csv\")\n",
    "df.head(10)"
   ]
  },
  {
   "cell_type": "markdown",
   "metadata": {},
   "source": [
    "# Óbitos em JF"
   ]
  },
  {
   "cell_type": "code",
   "execution_count": 4,
   "metadata": {},
   "outputs": [
    {
     "data": {
      "text/html": [
       "<div>\n",
       "<style scoped>\n",
       "    .dataframe tbody tr th:only-of-type {\n",
       "        vertical-align: middle;\n",
       "    }\n",
       "\n",
       "    .dataframe tbody tr th {\n",
       "        vertical-align: top;\n",
       "    }\n",
       "\n",
       "    .dataframe thead th {\n",
       "        text-align: right;\n",
       "    }\n",
       "</style>\n",
       "<table border=\"1\" class=\"dataframe\">\n",
       "  <thead>\n",
       "    <tr style=\"text-align: right;\">\n",
       "      <th></th>\n",
       "      <th>nomeMunicipio</th>\n",
       "      <th>dataCaso</th>\n",
       "      <th>obitosCaso</th>\n",
       "    </tr>\n",
       "  </thead>\n",
       "  <tbody>\n",
       "    <tr>\n",
       "      <th>4735</th>\n",
       "      <td>Juiz de Fora</td>\n",
       "      <td>2020-03-26</td>\n",
       "      <td>0.0</td>\n",
       "    </tr>\n",
       "    <tr>\n",
       "      <th>4734</th>\n",
       "      <td>Juiz de Fora</td>\n",
       "      <td>2020-03-27</td>\n",
       "      <td>0.0</td>\n",
       "    </tr>\n",
       "    <tr>\n",
       "      <th>4733</th>\n",
       "      <td>Juiz de Fora</td>\n",
       "      <td>2020-03-30</td>\n",
       "      <td>0.0</td>\n",
       "    </tr>\n",
       "    <tr>\n",
       "      <th>4732</th>\n",
       "      <td>Juiz de Fora</td>\n",
       "      <td>2020-03-31</td>\n",
       "      <td>0.0</td>\n",
       "    </tr>\n",
       "    <tr>\n",
       "      <th>4731</th>\n",
       "      <td>Juiz de Fora</td>\n",
       "      <td>2020-04-01</td>\n",
       "      <td>0.0</td>\n",
       "    </tr>\n",
       "    <tr>\n",
       "      <th>...</th>\n",
       "      <td>...</td>\n",
       "      <td>...</td>\n",
       "      <td>...</td>\n",
       "    </tr>\n",
       "    <tr>\n",
       "      <th>4892</th>\n",
       "      <td>Juiz de Fora</td>\n",
       "      <td>2021-01-14</td>\n",
       "      <td>590.0</td>\n",
       "    </tr>\n",
       "    <tr>\n",
       "      <th>4893</th>\n",
       "      <td>Juiz de Fora</td>\n",
       "      <td>2021-01-15</td>\n",
       "      <td>598.0</td>\n",
       "    </tr>\n",
       "    <tr>\n",
       "      <th>4894</th>\n",
       "      <td>Juiz de Fora</td>\n",
       "      <td>2021-01-18</td>\n",
       "      <td>605.0</td>\n",
       "    </tr>\n",
       "    <tr>\n",
       "      <th>4895</th>\n",
       "      <td>Juiz de Fora</td>\n",
       "      <td>2021-01-19</td>\n",
       "      <td>628.0</td>\n",
       "    </tr>\n",
       "    <tr>\n",
       "      <th>4896</th>\n",
       "      <td>Juiz de Fora</td>\n",
       "      <td>2021-01-20</td>\n",
       "      <td>631.0</td>\n",
       "    </tr>\n",
       "  </tbody>\n",
       "</table>\n",
       "<p>223 rows × 3 columns</p>\n",
       "</div>"
      ],
      "text/plain": [
       "     nomeMunicipio    dataCaso  obitosCaso\n",
       "4735  Juiz de Fora  2020-03-26         0.0\n",
       "4734  Juiz de Fora  2020-03-27         0.0\n",
       "4733  Juiz de Fora  2020-03-30         0.0\n",
       "4732  Juiz de Fora  2020-03-31         0.0\n",
       "4731  Juiz de Fora  2020-04-01         0.0\n",
       "...            ...         ...         ...\n",
       "4892  Juiz de Fora  2021-01-14       590.0\n",
       "4893  Juiz de Fora  2021-01-15       598.0\n",
       "4894  Juiz de Fora  2021-01-18       605.0\n",
       "4895  Juiz de Fora  2021-01-19       628.0\n",
       "4896  Juiz de Fora  2021-01-20       631.0\n",
       "\n",
       "[223 rows x 3 columns]"
      ]
     },
     "execution_count": 4,
     "metadata": {},
     "output_type": "execute_result"
    }
   ],
   "source": [
    "cidade = \"Juiz de Fora\"\n",
    "df_jf = df.loc[df['nomeMunicipio'] == cidade].drop(['confirmadosCaso', 'recuperadosCaso', 'suspeitosCaso', 'descartadosCaso'], axis=1)\n",
    "df_jf = df_jf.sort_values(by=['dataCaso'])\n",
    "\n",
    "df_jf"
   ]
  },
  {
   "cell_type": "markdown",
   "metadata": {},
   "source": [
    "# Gráfico"
   ]
  },
  {
   "cell_type": "code",
   "execution_count": 5,
   "metadata": {},
   "outputs": [],
   "source": [
    "import matplotlib.pyplot as plt\n",
    "import matplotlib.patches as mpatches\n",
    "%matplotlib inline\n",
    "plt.style.use('seaborn-whitegrid')\n",
    "\n",
    "def plotGraph(X, y, XReal, yReal, algorithm):\n",
    "    df = pd.DataFrame(\n",
    "    {'dates': X, 'deaths': y.astype(int)})\n",
    "    df['dates'] = pd.to_datetime(df['dates'])\n",
    "\n",
    "    fig = plt.figure()\n",
    "    ax = plt.axes()\n",
    "    redLine = plt.plot(XReal, yReal, 'r:', label='Confirmed Deaths')\n",
    "    df.set_index('dates')['deaths'].plot(legend=True, grid=True, label='Predicted Deaths')\n",
    "    plt.title(\"COVID-19 in JF (\"+algorithm+\")\")\n",
    "    plt.xlabel(\"Dates\")\n",
    "    plt.ylabel(\"Deaths\")\n",
    "    \n",
    "    blue_patch = mpatches.Patch(color='blue', label='Predicted Deaths')\n",
    "    red_patch = mpatches.Patch(color='red', label='Confirmed Deaths')\n",
    "    plt.yticks(np.arange(min(y), max(y), step=20))\n",
    "    plt.legend(handles=[red_patch, blue_patch])"
   ]
  },
  {
   "cell_type": "code",
   "execution_count": 6,
   "metadata": {},
   "outputs": [],
   "source": [
    "import datetime\n",
    "import numpy as np\n",
    "\n",
    "diasASimular = 90\n",
    "totalDeDiasReais = 60\n",
    "\n",
    "dfForPlot = df_jf[df_jf['obitosCaso'] != 0]"
   ]
  },
  {
   "cell_type": "code",
   "execution_count": 7,
   "metadata": {},
   "outputs": [],
   "source": [
    "XTrain = np.arange(0, len(dfForPlot['dataCaso'][0:totalDeDiasReais]))\n",
    "yTrain = dfForPlot['obitosCaso'][0:totalDeDiasReais]\n",
    "\n",
    "XPredict = np.arange(0, len(XTrain) + diasASimular)\n",
    "\n",
    "XRealCases = dfForPlot['dataCaso']\n",
    "yRealCases = dfForPlot['obitosCaso']\n",
    "\n",
    "predictedDays = pd.date_range(start = dfForPlot['dataCaso'].iloc[totalDeDiasReais], periods=diasASimular, freq='D')\n",
    "X = np.append(dfForPlot['dataCaso'][0:totalDeDiasReais], predictedDays)\n",
    "\n",
    "#len(XTrain), len(yTrain), len(XRealCases), len(yRealCases), len(X)\n",
    "X = pd.to_datetime(X)"
   ]
  },
  {
   "cell_type": "markdown",
   "metadata": {},
   "source": [
    "# Regressão Linear"
   ]
  },
  {
   "cell_type": "code",
   "execution_count": 8,
   "metadata": {},
   "outputs": [],
   "source": [
    "#treino\n",
    "from sklearn.linear_model import LinearRegression\n",
    "LRModel = LinearRegression()\n",
    "try:\n",
    "    LRModel.fit(XTrain.reshape(-1, 1), yTrain)\n",
    "except:\n",
    "    pass"
   ]
  },
  {
   "cell_type": "code",
   "execution_count": 9,
   "metadata": {},
   "outputs": [],
   "source": [
    "#predição\n",
    "y = LRModel.predict(XPredict.reshape(-1, 1)).astype(int)\n",
    "y = y + y[0] * -1"
   ]
  },
  {
   "cell_type": "code",
   "execution_count": 10,
   "metadata": {},
   "outputs": [
    {
     "data": {
      "image/png": "[encoded data removed]",
      "text/plain": [
       "<Figure size 432x288 with 1 Axes>"
      ]
     },
     "metadata": {},
     "output_type": "display_data"
    }
   ],
   "source": [
    "plotGraph(pd.to_datetime(X), y, pd.to_datetime(XRealCases), yRealCases, \"Linear Regression\")"
   ]
  },
  {
   "cell_type": "markdown",
   "metadata": {},
   "source": [
    "# Erro"
   ]
  },
  {
   "cell_type": "code",
   "execution_count": 11,
   "metadata": {},
   "outputs": [
    {
     "data": {
      "text/plain": [
       "3163.12"
      ]
     },
     "execution_count": 11,
     "metadata": {},
     "output_type": "execute_result"
    }
   ],
   "source": [
    "from sklearn.metrics import mean_squared_error \n",
    "  \n",
    "# Calculation of Mean Squared Error (MSE) \n",
    "mean_squared_error(yRealCases[0:totalDeDiasReais + diasASimular], y)"
   ]
  },
  {
   "cell_type": "markdown",
   "metadata": {},
   "source": [
    "# Regressão  Polinomial grau 2"
   ]
  },
  {
   "cell_type": "code",
   "execution_count": 15,
   "metadata": {},
   "outputs": [],
   "source": [
    "#treino\n",
    "from sklearn.preprocessing import PolynomialFeatures\n",
    "polynomialFeatures = PolynomialFeatures(degree = 2)\n",
    "XPoly = polynomialFeatures.fit_transform(XTrain.reshape(-1, 1))\n",
    "\n",
    "from sklearn.linear_model import LinearRegression\n",
    "polyLinearRegression = LinearRegression()\n",
    "polyLinearRegression.fit(XPoly, yTrain)\n",
    "\n",
    "#predição\n",
    "XPoly = polynomialFeatures.fit_transform(XPredict.reshape(-1, 1))\n",
    "y = polyLinearRegression.predict(XPoly).astype(int)\n",
    "miny = min(y)\n",
    "y = y + miny * -1"
   ]
  },
  {
   "cell_type": "code",
   "execution_count": 16,
   "metadata": {},
   "outputs": [
    {
     "data": {
      "image/png": "[encoded data removed]",
      "text/plain": [
       "<Figure size 432x288 with 1 Axes>"
      ]
     },
     "metadata": {},
     "output_type": "display_data"
    }
   ],
   "source": [
    "plotGraph(pd.to_datetime(X), y, pd.to_datetime(XRealCases), yRealCases, \"Polynomial Regression Degree 2\")"
   ]
  },
  {
   "cell_type": "code",
   "execution_count": 17,
   "metadata": {},
   "outputs": [
    {
     "data": {
      "text/plain": [
       "1073.9266666666667"
      ]
     },
     "execution_count": 17,
     "metadata": {},
     "output_type": "execute_result"
    }
   ],
   "source": [
    "# Calculation of Mean Squared Error (MSE) \n",
    "mean_squared_error(yRealCases[0:totalDeDiasReais + diasASimular], y)"
   ]
  },
  {
   "cell_type": "markdown",
   "metadata": {},
   "source": [
    "# Regressão Polinomial grau 3"
   ]
  },
  {
   "cell_type": "code",
   "execution_count": 19,
   "metadata": {},
   "outputs": [],
   "source": [
    "#treino\n",
    "from sklearn.preprocessing import PolynomialFeatures\n",
    "polynomialFeatures = PolynomialFeatures(degree = 3)\n",
    "XPoly = polynomialFeatures.fit_transform(XTrain.reshape(-1, 1))\n",
    "\n",
    "from sklearn.linear_model import LinearRegression\n",
    "polyLinearRegression = LinearRegression()\n",
    "polyLinearRegression.fit(XPoly, yTrain)\n",
    "\n",
    "#predição\n",
    "XPoly = polynomialFeatures.fit_transform(XPredict.reshape(-1, 1))\n",
    "y = polyLinearRegression.predict(XPoly).astype(int)\n",
    "miny = min(y)\n",
    "y = y + miny * -1"
   ]
  },
  {
   "cell_type": "code",
   "execution_count": 22,
   "metadata": {},
   "outputs": [],
   "source": [
    "#y.sort()"
   ]
  },
  {
   "cell_type": "code",
   "execution_count": 23,
   "metadata": {},
   "outputs": [
    {
     "data": {
      "image/png": "[encoded data removed]",
      "text/plain": [
       "<Figure size 432x288 with 1 Axes>"
      ]
     },
     "metadata": {},
     "output_type": "display_data"
    }
   ],
   "source": [
    "plotGraph(pd.to_datetime(X), y, pd.to_datetime(XRealCases), yRealCases, \"Polynomial Regression Degree 3\")"
   ]
  },
  {
   "cell_type": "code",
   "execution_count": 44,
   "metadata": {},
   "outputs": [
    {
     "data": {
      "text/plain": [
       "725.1444444444444"
      ]
     },
     "execution_count": 44,
     "metadata": {},
     "output_type": "execute_result"
    }
   ],
   "source": [
    "# Calculation of Mean Squared Error (MSE) \n",
    "mean_squared_error(yRealCases[0:totalDeDiasReais + diasASimular], y)"
   ]
  },
  {
   "cell_type": "markdown",
   "metadata": {},
   "source": [
    "# Regressão Arvore de Decisão"
   ]
  },
  {
   "cell_type": "code",
   "execution_count": 45,
   "metadata": {},
   "outputs": [],
   "source": [
    "#treino\n",
    "from sklearn.tree import DecisionTreeRegressor\n",
    "\n",
    "regressor = DecisionTreeRegressor()\n",
    "regressor.fit(XTrain.reshape(-1, 1), yTrain)\n",
    "    \n",
    "#predição\n",
    "y = regressor.predict(XPredict.reshape(-1, 1)).astype(int)\n",
    "\n",
    "#miny = min(y)\n",
    "#y = y + miny * -1\n",
    "#y = np.flip(y, 0)"
   ]
  },
  {
   "cell_type": "code",
   "execution_count": 46,
   "metadata": {},
   "outputs": [
    {
     "data": {
      "image/png": "[encoded data removed]",
      "text/plain": [
       "<Figure size 432x288 with 1 Axes>"
      ]
     },
     "metadata": {},
     "output_type": "display_data"
    }
   ],
   "source": [
    "plotGraph(pd.to_datetime(X), y, pd.to_datetime(XRealCases), yRealCases, \"Decision Tree Regression\")"
   ]
  },
  {
   "cell_type": "code",
   "execution_count": 47,
   "metadata": {},
   "outputs": [
    {
     "data": {
      "text/plain": [
       "341.72222222222223"
      ]
     },
     "execution_count": 47,
     "metadata": {},
     "output_type": "execute_result"
    }
   ],
   "source": [
    "from sklearn.metrics import mean_squared_error \n",
    "  \n",
    "# Calculation of Mean Squared Error (MSE) \n",
    "mean_squared_error(yRealCases[0:totalDeDiasReais + diasASimular], y)"
   ]
  },
  {
   "cell_type": "markdown",
   "metadata": {},
   "source": [
    "# Regressão Random Forest"
   ]
  },
  {
   "cell_type": "code",
   "execution_count": 48,
   "metadata": {},
   "outputs": [],
   "source": [
    "#treino\n",
    "from sklearn.ensemble import RandomForestRegressor\n",
    "\n",
    "regressor = RandomForestRegressor(n_estimators = 100)\n",
    "regressor.fit(XTrain.reshape(-1, 1), yTrain)\n",
    "    \n",
    "#predição\n",
    "y = regressor.predict(XPredict.reshape(-1, 1)).astype(int)\n",
    "\n",
    "#miny = min(y)\n",
    "#y = y + miny * -1\n",
    "#y = np.flip(y, 0)"
   ]
  },
  {
   "cell_type": "code",
   "execution_count": 49,
   "metadata": {},
   "outputs": [
    {
     "data": {
      "image/png": "[encoded data removed]",
      "text/plain": [
       "<Figure size 432x288 with 1 Axes>"
      ]
     },
     "metadata": {},
     "output_type": "display_data"
    }
   ],
   "source": [
    "plotGraph(pd.to_datetime(X), y, pd.to_datetime(XRealCases), yRealCases, \"Random Forest Regression\")"
   ]
  },
  {
   "cell_type": "code",
   "execution_count": 50,
   "metadata": {},
   "outputs": [
    {
     "data": {
      "text/plain": [
       "359.8222222222222"
      ]
     },
     "execution_count": 50,
     "metadata": {},
     "output_type": "execute_result"
    }
   ],
   "source": [
    "from sklearn.metrics import mean_squared_error \n",
    "\n",
    "# Calculation of Mean Squared Error (MSE) \n",
    "mean_squared_error(yRealCases[0:totalDeDiasReais + diasASimular], y)"
   ]
  },
  {
   "cell_type": "code",
   "execution_count": null,
   "metadata": {},
   "outputs": [],
   "source": []
  }
 ],
 "metadata": {
  "kernelspec": {
   "display_name": "virtual",
   "language": "python",
   "name": "virtual"
  },
  "language_info": {
   "codemirror_mode": {
    "name": "ipython",
    "version": 3
   },
   "file_extension": ".py",
   "mimetype": "text/x-python",
   "name": "python",
   "nbconvert_exporter": "python",
   "pygments_lexer": "ipython3",
   "version": "3.8.6"
  }
 },
 "nbformat": 4,
 "nbformat_minor": 4
}
